{
 "cells": [
  {
   "cell_type": "code",
   "execution_count": 1,
   "metadata": {},
   "outputs": [],
   "source": [
    "from cashier import *"
   ]
  },
  {
   "cell_type": "code",
   "execution_count": 2,
   "metadata": {},
   "outputs": [
    {
     "name": "stdout",
     "output_type": "stream",
     "text": [
      "Member telah kami daftarkan dengan id user_1\n"
     ]
    }
   ],
   "source": [
    "user_1 = Buying(\"user_1\")"
   ]
  },
  {
   "cell_type": "code",
   "execution_count": 3,
   "metadata": {},
   "outputs": [
    {
     "name": "stdout",
     "output_type": "stream",
     "text": [
      "Produk telah ditambahkan ke keranjang dengan Transaksi ID: yaouPbwD\n"
     ]
    }
   ],
   "source": [
    "user_1.add_transaction([['Ayam Goreng', 2, 2000],['Pasta Gigi', 3, 15000]])"
   ]
  },
  {
   "cell_type": "code",
   "execution_count": 4,
   "metadata": {},
   "outputs": [
    {
     "name": "stdout",
     "output_type": "stream",
     "text": [
      "Transaksi ID: yaouPbwD\n",
      "+---------------+----------+---------+\n",
      "| Nama Barang   |   Jumlah |   Harga |\n",
      "+===============+==========+=========+\n",
      "| Ayam Goreng   |        2 |    2000 |\n",
      "+---------------+----------+---------+\n",
      "| Pasta Gigi    |        3 |   15000 |\n",
      "+---------------+----------+---------+\n"
     ]
    }
   ],
   "source": [
    "user_1.show_transaction(\"yaouPbwD\")"
   ]
  },
  {
   "cell_type": "code",
   "execution_count": 5,
   "metadata": {},
   "outputs": [
    {
     "name": "stdout",
     "output_type": "stream",
     "text": [
      "Produk Ayam Goreng sudah dihapus\n"
     ]
    }
   ],
   "source": [
    "user_1.delete_items('Pasta Gigi')"
   ]
  },
  {
   "cell_type": "code",
   "execution_count": 7,
   "metadata": {},
   "outputs": [
    {
     "name": "stdout",
     "output_type": "stream",
     "text": [
      "Transaksi ID: yaouPbwD\n",
      "+---------------+----------+---------+\n",
      "| Nama Barang   |   Jumlah |   Harga |\n",
      "+===============+==========+=========+\n",
      "| Ayam Goreng   |        2 |    2000 |\n",
      "+---------------+----------+---------+\n"
     ]
    }
   ],
   "source": [
    "user_1.show_transaction(\"yaouPbwD\")"
   ]
  },
  {
   "cell_type": "code",
   "execution_count": 8,
   "metadata": {},
   "outputs": [
    {
     "name": "stdout",
     "output_type": "stream",
     "text": [
      "Transaksi telah selesai dilakukan reset\n"
     ]
    }
   ],
   "source": [
    "user_1.reset_transaction()"
   ]
  },
  {
   "cell_type": "code",
   "execution_count": 10,
   "metadata": {},
   "outputs": [
    {
     "name": "stdout",
     "output_type": "stream",
     "text": [
      "Produk telah ditambahkan ke keranjang dengan Transaksi ID: 93A3PFVu\n"
     ]
    }
   ],
   "source": [
    "user_1.add_transaction([['Ayam Goreng', 2, 2000],['Pasta Gigi', 3, 15000],['Mainan Mobil', 1, 200000], ['Mi Instan', 5, 3000]])"
   ]
  },
  {
   "cell_type": "code",
   "execution_count": 11,
   "metadata": {},
   "outputs": [
    {
     "name": "stdout",
     "output_type": "stream",
     "text": [
      "Transaksi ID: 93A3PFVu\n",
      "+---------------+----------+---------+\n",
      "| Nama Barang   |   Jumlah |   Harga |\n",
      "+===============+==========+=========+\n",
      "| Ayam Goreng   |        2 |    2000 |\n",
      "+---------------+----------+---------+\n",
      "| Pasta Gigi    |        3 |   15000 |\n",
      "+---------------+----------+---------+\n",
      "| Mainan Mobil  |        1 |  200000 |\n",
      "+---------------+----------+---------+\n",
      "| Mi Instan     |        5 |    3000 |\n",
      "+---------------+----------+---------+\n"
     ]
    }
   ],
   "source": [
    "user_1.show_transaction(\"93A3PFVu\")"
   ]
  },
  {
   "cell_type": "code",
   "execution_count": 15,
   "metadata": {},
   "outputs": [
    {
     "name": "stdout",
     "output_type": "stream",
     "text": [
      "+----+------------+------------+-------------+---------------+\n",
      "| No | Nama Item  | Jumlah Item|  Harga/Item |  Total Harga  |\n",
      "+----+------------+------------+-------------+---------------+\n",
      "| 1  | Ayam Goreng | 2          | Rp 2000     | Rp 4000       |\n",
      "| 2  | Pasta Gigi | 3          | Rp 15000    | Rp 45000      |\n",
      "| 3  | Mainan Mobil | 1          | Rp 200000   | Rp 200000     |\n",
      "| 4  | Mi Instan  | 5          | Rp 3000     | Rp 15000      |\n",
      "+----+------------+------------+-------------+---------------+\n",
      "Pemesanan sudah benar dengan nilai transaksi sebesar Rp 264,000 (Tanpa potongan)\n"
     ]
    }
   ],
   "source": [
    "user_1.check_order()"
   ]
  },
  {
   "cell_type": "code",
   "execution_count": null,
   "metadata": {},
   "outputs": [],
   "source": []
  }
 ],
 "metadata": {
  "kernelspec": {
   "display_name": "Python 3",
   "language": "python",
   "name": "python3"
  },
  "language_info": {
   "codemirror_mode": {
    "name": "ipython",
    "version": 3
   },
   "file_extension": ".py",
   "mimetype": "text/x-python",
   "name": "python",
   "nbconvert_exporter": "python",
   "pygments_lexer": "ipython3",
   "version": "3.13.2"
  }
 },
 "nbformat": 4,
 "nbformat_minor": 2
}
